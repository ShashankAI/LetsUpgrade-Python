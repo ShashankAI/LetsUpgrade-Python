{
  "nbformat": 4,
  "nbformat_minor": 0,
  "metadata": {
    "colab": {
      "name": "Day3Assignment.ipynb",
      "provenance": [],
      "authorship_tag": "ABX9TyOGiiAmrpruE27RhA4Yih1U",
      "include_colab_link": true
    },
    "kernelspec": {
      "name": "python3",
      "display_name": "Python 3"
    }
  },
  "cells": [
    {
      "cell_type": "markdown",
      "metadata": {
        "id": "view-in-github",
        "colab_type": "text"
      },
      "source": [
        "<a href=\"https://colab.research.google.com/github/ShashankAI/LetsUpgrade-Python/blob/master/Day3Assignment.ipynb\" target=\"_parent\"><img src=\"https://colab.research.google.com/assets/colab-badge.svg\" alt=\"Open In Colab\"/></a>"
      ]
    },
    {
      "cell_type": "markdown",
      "metadata": {
        "id": "idnGY317JNVB",
        "colab_type": "text"
      },
      "source": [
        "QUESTION 1\n",
        "Landing Plane"
      ]
    },
    {
      "cell_type": "code",
      "metadata": {
        "id": "JAXhWWvkLFvS",
        "colab_type": "code",
        "colab": {
          "base_uri": "https://localhost:8080/",
          "height": 51
        },
        "outputId": "1ba03e8f-efe6-4160-c399-157829ab1a28"
      },
      "source": [
        "alt1 = input(\"Enter the Altitude:\")\n",
        "alt=int(alt1)\n",
        "if alt==1000 :\n",
        "   print (\"Safe to Land\")\n",
        "elif alt > 1000 and alt < 5000 :\n",
        "   print (\"Bring Down to 1000\")\n",
        "else: \n",
        "   print (\"Turn Around\")"
      ],
      "execution_count": 21,
      "outputs": [
        {
          "output_type": "stream",
          "text": [
            "Enter the Altitude:1000\n",
            "Safe to Land\n"
          ],
          "name": "stdout"
        }
      ]
    },
    {
      "cell_type": "code",
      "metadata": {
        "id": "If0O6Mzoaeq9",
        "colab_type": "code",
        "colab": {
          "base_uri": "https://localhost:8080/",
          "height": 51
        },
        "outputId": "86ed66b6-1526-44fb-c37c-99bdf1b2e0a4"
      },
      "source": [
        " \n",
        "alt1 = input(\"Enter the Altitude:\")\n",
        "alt=int(alt1)\n",
        "if alt==1000 :\n",
        "   print (\"Safe to Land\")\n",
        "elif alt > 1000 and alt < 5000 :\n",
        "   print (\"Bring Down to 1000\")\n",
        "else: \n",
        "   print (\"Turn Around\")"
      ],
      "execution_count": 19,
      "outputs": [
        {
          "output_type": "stream",
          "text": [
            "Enter the Altitude:4500\n",
            "Bring Down to 1000\n"
          ],
          "name": "stdout"
        }
      ]
    },
    {
      "cell_type": "code",
      "metadata": {
        "id": "0l6-sOqQaxC4",
        "colab_type": "code",
        "colab": {
          "base_uri": "https://localhost:8080/",
          "height": 51
        },
        "outputId": "401840ca-95ae-4a06-94e9-30e9204f5adb"
      },
      "source": [
        " \n",
        "alt1 = input(\"Enter the Altitude:\")\n",
        "alt=int(alt1)\n",
        "if alt==1000 :\n",
        "   print (\"Safe to Land\")\n",
        "elif alt > 1000 and alt < 5000 :\n",
        "   print (\"Bring Down to 1000\")\n",
        "else: \n",
        "   print (\"Turn Around\")"
      ],
      "execution_count": 20,
      "outputs": [
        {
          "output_type": "stream",
          "text": [
            "Enter the Altitude:6500\n",
            "Turn Around\n"
          ],
          "name": "stdout"
        }
      ]
    },
    {
      "cell_type": "markdown",
      "metadata": {
        "id": "dBzU3NamMhv9",
        "colab_type": "text"
      },
      "source": [
        "QUESTION 2\n",
        "Printing Prime Numbers from 1-200"
      ]
    },
    {
      "cell_type": "code",
      "metadata": {
        "id": "QOMYizGIMkeE",
        "colab_type": "code",
        "colab": {
          "base_uri": "https://localhost:8080/",
          "height": 823
        },
        "outputId": "786edf5b-01fb-4c73-938c-f4306c565621"
      },
      "source": [
        " \n",
        "start = 1\n",
        "end = 201\n",
        " \n",
        "for i in range(start,end): \n",
        " \n",
        "    for j in range(2,i): \n",
        " \n",
        "        if(i % j==0): \n",
        " \n",
        "            break\n",
        " \n",
        "    else: \n",
        " \n",
        "        print(i)"
      ],
      "execution_count": 22,
      "outputs": [
        {
          "output_type": "stream",
          "text": [
            "1\n",
            "2\n",
            "3\n",
            "5\n",
            "7\n",
            "11\n",
            "13\n",
            "17\n",
            "19\n",
            "23\n",
            "29\n",
            "31\n",
            "37\n",
            "41\n",
            "43\n",
            "47\n",
            "53\n",
            "59\n",
            "61\n",
            "67\n",
            "71\n",
            "73\n",
            "79\n",
            "83\n",
            "89\n",
            "97\n",
            "101\n",
            "103\n",
            "107\n",
            "109\n",
            "113\n",
            "127\n",
            "131\n",
            "137\n",
            "139\n",
            "149\n",
            "151\n",
            "157\n",
            "163\n",
            "167\n",
            "173\n",
            "179\n",
            "181\n",
            "191\n",
            "193\n",
            "197\n",
            "199\n"
          ],
          "name": "stdout"
        }
      ]
    }
  ]
}