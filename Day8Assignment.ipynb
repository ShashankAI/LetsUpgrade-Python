{
  "nbformat": 4,
  "nbformat_minor": 0,
  "metadata": {
    "colab": {
      "name": "Day8Assignment.ipynb",
      "provenance": [],
      "authorship_tag": "ABX9TyPwkbwa9X931u4/Zkiq9FP0",
      "include_colab_link": true
    },
    "kernelspec": {
      "name": "python3",
      "display_name": "Python 3"
    }
  },
  "cells": [
    {
      "cell_type": "markdown",
      "metadata": {
        "id": "view-in-github",
        "colab_type": "text"
      },
      "source": [
        "<a href=\"https://colab.research.google.com/github/ShashankAI/LetsUpgrade-Python/blob/master/Day8Assignment.ipynb\" target=\"_parent\"><img src=\"https://colab.research.google.com/assets/colab-badge.svg\" alt=\"Open In Colab\"/></a>"
      ]
    },
    {
      "cell_type": "markdown",
      "metadata": {
        "id": "lQGGHdsr8Bgl",
        "colab_type": "text"
      },
      "source": [
        " Write a decorator function for your taking input for you any kind of function you want to build,"
      ]
    },
    {
      "cell_type": "code",
      "metadata": {
        "id": "lxFk84tH6rjq",
        "colab_type": "code",
        "colab": {}
      },
      "source": [
        " \n",
        "def smart_divide(func):\n",
        "    def inner(a, b):\n",
        "        print(\"I am going to divide\", a, \"and\", b)\n",
        "        if b == 0:\n",
        "            print(\"Whoops! cannot divide\")\n",
        "            return\n",
        " \n",
        "        return func(a, b)\n",
        "    return inner\n",
        " \n",
        " \n",
        " \n",
        "def divide(a, b):\n",
        "    print(a/b)"
      ],
      "execution_count": null,
      "outputs": []
    },
    {
      "cell_type": "markdown",
      "metadata": {
        "id": "fQYZ3vuS8Hep",
        "colab_type": "text"
      },
      "source": [
        " For this challenge you need to develop a Python program to open a file in read only mode and try\n",
        "writing something to it and handle the subsequent errors using Exception Handling."
      ]
    },
    {
      "cell_type": "code",
      "metadata": {
        "id": "fX5IGyhR78J8",
        "colab_type": "code",
        "colab": {
          "base_uri": "https://localhost:8080/",
          "height": 51
        },
        "outputId": "245b9d42-72be-4618-ee19-94b71db8ed93"
      },
      "source": [
        " \n",
        "filename = input(\"Enter file name: \")\n",
        " \n",
        "try:\n",
        "    f = open(filename, \"r\")\n",
        " \n",
        "    for line in f:\n",
        "        print(line, end=\"\")\n",
        " \n",
        "    f.close()\n",
        " \n",
        "except FileNotFoundError:\n",
        "    print(\"File not found\")\n",
        " \n",
        "except PermissionError:\n",
        "    print(\"You don't have the permission to read the file\")\n",
        " \n",
        "except:\n",
        "    print(\"Unexpected error while reading the file\")"
      ],
      "execution_count": null,
      "outputs": [
        {
          "output_type": "stream",
          "text": [
            "Enter file name: Assignment\n",
            "File not found\n"
          ],
          "name": "stdout"
        }
      ]
    }
  ]
}