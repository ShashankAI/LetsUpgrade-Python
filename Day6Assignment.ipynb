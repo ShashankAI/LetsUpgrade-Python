{
  "nbformat": 4,
  "nbformat_minor": 0,
  "metadata": {
    "colab": {
      "name": "Day6Assignment.ipynb",
      "provenance": [],
      "collapsed_sections": [],
      "authorship_tag": "ABX9TyOA4Z3ZXudN3fmCI78ko/NE",
      "include_colab_link": true
    },
    "kernelspec": {
      "name": "python3",
      "display_name": "Python 3"
    }
  },
  "cells": [
    {
      "cell_type": "markdown",
      "metadata": {
        "id": "view-in-github",
        "colab_type": "text"
      },
      "source": [
        "<a href=\"https://colab.research.google.com/github/ShashankAI/LetsUpgrade-Python/blob/master/Day6Assignment.ipynb\" target=\"_parent\"><img src=\"https://colab.research.google.com/assets/colab-badge.svg\" alt=\"Open In Colab\"/></a>"
      ]
    },
    {
      "cell_type": "markdown",
      "metadata": {
        "id": "BMnjndcXXWC3",
        "colab_type": "text"
      },
      "source": [
        " For this challenge,create a bank account class that has two attributes\n",
        "*ownerName\n",
        "*Balance\n",
        "And two methods\n",
        "*deposit\n",
        "*withdraw\n",
        "As an added requirement,withdrawals may not exceed the available balance.\n",
        "Instantiate your class,make several deposits and withdrawals,and test to make sure the account\n",
        "cant be overdrawn."
      ]
    },
    {
      "cell_type": "code",
      "metadata": {
        "id": "aO1g44yRVjOP",
        "colab_type": "code",
        "colab": {
          "base_uri": "https://localhost:8080/",
          "height": 85
        },
        "outputId": "a8cedb83-8c96-4161-d6b5-35a7ccd7b9c0"
      },
      "source": [
        " \n",
        "class Account:\n",
        " \n",
        "    \n",
        " \n",
        "    def __init__(self, owner, balance):\n",
        " \n",
        "        self.owner = owner\n",
        " \n",
        "        self.balance = balance\n",
        " \n",
        "    \n",
        " \n",
        "    def __str__(self):\n",
        " \n",
        "        return 'Account owner: {owner}\\nAccount balance: ${balance}'.format(owner=self.owner, balance=self.balance)\n",
        " \n",
        "        \n",
        " \n",
        "    def deposit(self, dp_money):\n",
        " \n",
        "        self.balance += dp_money\n",
        " \n",
        "        print('Deposit Accepted, your balance is {balance}'.format(balance=self.balance))\n",
        " \n",
        "    \n",
        " \n",
        "    def withdraw(self, wd_money):\n",
        " \n",
        "        if wd_money > self.balance:\n",
        " \n",
        "            print('Funds Unavailable!')\n",
        " \n",
        "        else:\n",
        " \n",
        "            self.balance -= wd_money\n",
        " \n",
        "            print('Withdrawal Accepted, your balance is {balance}'.format(balance=self.balance))\n",
        " \n",
        "            \n",
        " \n",
        "acct1 = Account('Sai',500)\n",
        " \n",
        "print(acct1)\n",
        " \n",
        "acct1.deposit(250)\n",
        " \n",
        "acct1.withdraw(6000)"
      ],
      "execution_count": null,
      "outputs": [
        {
          "output_type": "stream",
          "text": [
            "Account owner: Sai\n",
            "Account balance: $500\n",
            "Deposit Accepted, your balance is 750\n",
            "Funds Unavailable!\n"
          ],
          "name": "stdout"
        }
      ]
    },
    {
      "cell_type": "markdown",
      "metadata": {
        "id": "JjzINqsTaN_O",
        "colab_type": "text"
      },
      "source": [
        " For this challenge,create a cone class that has two attributes:\n",
        "*R=Radius\n",
        "*h=Height\n",
        "And two methods:\n",
        "*Volume = Π * r2 = (h/3)\n",
        "*Surface area : base : Π * r2 , side : Π * r * √(r2 + h2)\n",
        "Make only one class with functions,as in where required import Math."
      ]
    },
    {
      "cell_type": "code",
      "metadata": {
        "id": "IU90j3bcY2_q",
        "colab_type": "code",
        "colab": {
          "base_uri": "https://localhost:8080/",
          "height": 71
        },
        "outputId": "9fddc5be-94f8-463a-a593-ce2850392e7a"
      },
      "source": [
        " \n",
        "import math \n",
        " \n",
        "pi = math.pi \n",
        " \n",
        "def volume(r, h): \n",
        " \n",
        "    return (1 / 3) * pi * r * r * h \n",
        " \n",
        " \n",
        "def surfacearea(r, s): \n",
        " \n",
        "    return pi * r * s + pi * r * r \n",
        " \n",
        "  \n",
        " \n",
        " \n",
        "radius = float(5) \n",
        " \n",
        "height = float(12) \n",
        " \n",
        "slat_height = float(13) \n",
        " \n",
        "print( \"Volume Of Cone : \", volume(radius, height) ) \n",
        " \n",
        "print( \"Surface Area Of Cone: \", surfacearea(radius, slat_height) )"
      ],
      "execution_count": null,
      "outputs": [
        {
          "output_type": "stream",
          "text": [
            "Volume Of Cone :  314.15926535897927\n",
            "Surface Area Of Cone:  282.7433388230814\n"
          ],
          "name": "stdout"
        }
      ]
    }
  ]
}